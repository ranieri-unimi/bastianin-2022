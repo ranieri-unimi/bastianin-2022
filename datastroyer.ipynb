{
 "cells": [
  {
   "cell_type": "markdown",
   "metadata": {},
   "source": [
    "# and then we go to mario draghi"
   ]
  },
  {
   "cell_type": "code",
   "execution_count": 1,
   "metadata": {},
   "outputs": [],
   "source": [
    "import pandas as pd\n",
    "import time\n",
    "import datetime\n",
    "import matplotlib\n",
    "import numpy as np\n",
    "from statsmodels.distributions.empirical_distribution import ECDF\n",
    "\n",
    "ad = pd.read_csv('datasets/1976-2020-president.csv')\n",
    "years = set(ad['year'])\n",
    "states = set(ad['state'])"
   ]
  },
  {
   "cell_type": "markdown",
   "metadata": {},
   "source": [
    "#### some function"
   ]
  },
  {
   "cell_type": "code",
   "execution_count": 2,
   "metadata": {},
   "outputs": [],
   "source": [
    "def ecdf_inv(a, q): return sorted(a)[int(len(a) * q)]"
   ]
  },
  {
   "cell_type": "code",
   "execution_count": 3,
   "metadata": {},
   "outputs": [],
   "source": [
    "def to_percent(older, col_key):\n",
    "    newer = []\n",
    "    for y in years:\n",
    "        for s in states:\n",
    "            try:\n",
    "                d = older.loc[y, s, 'DEMOCRAT'][col_key]\n",
    "                r = older.loc[y, s, 'REPUBLICAN'][col_key]\n",
    "                newer.append([int(y), s, 100*d/(d+r)]) # % share for each state\n",
    "            except KeyError as e:\n",
    "                pass\n",
    "    return pd.DataFrame(data=newer, columns=['year', 'state', col_key, ])"
   ]
  },
  {
   "cell_type": "code",
   "execution_count": 4,
   "metadata": {},
   "outputs": [],
   "source": [
    "def to_splatter(a, col_name): # from row-column to table-list\n",
    "    lst = []\n",
    "    for year in a.columns[2:]:\n",
    "        for index, row in a.iterrows():\n",
    "            lst.append([int(year), row['GeoName'].upper(), row[year], ])\n",
    "    \n",
    "    return pd.DataFrame(data=lst, columns=['year', 'state', col_name, ])"
   ]
  },
  {
   "cell_type": "markdown",
   "metadata": {},
   "source": [
    "#### y_hat aka presitdent popular vote"
   ]
  },
  {
   "cell_type": "code",
   "execution_count": 5,
   "metadata": {},
   "outputs": [
    {
     "data": {
      "text/html": [
       "<div>\n",
       "<style scoped>\n",
       "    .dataframe tbody tr th:only-of-type {\n",
       "        vertical-align: middle;\n",
       "    }\n",
       "\n",
       "    .dataframe tbody tr th {\n",
       "        vertical-align: top;\n",
       "    }\n",
       "\n",
       "    .dataframe thead th {\n",
       "        text-align: right;\n",
       "    }\n",
       "</style>\n",
       "<table border=\"1\" class=\"dataframe\">\n",
       "  <thead>\n",
       "    <tr style=\"text-align: right;\">\n",
       "      <th></th>\n",
       "      <th>year</th>\n",
       "      <th>state</th>\n",
       "      <th>y_votes_percent</th>\n",
       "    </tr>\n",
       "  </thead>\n",
       "  <tbody>\n",
       "    <tr>\n",
       "      <th>0</th>\n",
       "      <td>1984</td>\n",
       "      <td>NEW HAMPSHIRE</td>\n",
       "      <td>31.065548</td>\n",
       "    </tr>\n",
       "    <tr>\n",
       "      <th>1</th>\n",
       "      <td>1984</td>\n",
       "      <td>PENNSYLVANIA</td>\n",
       "      <td>46.299269</td>\n",
       "    </tr>\n",
       "    <tr>\n",
       "      <th>2</th>\n",
       "      <td>1984</td>\n",
       "      <td>MISSOURI</td>\n",
       "      <td>39.975249</td>\n",
       "    </tr>\n",
       "    <tr>\n",
       "      <th>3</th>\n",
       "      <td>1984</td>\n",
       "      <td>KANSAS</td>\n",
       "      <td>32.970523</td>\n",
       "    </tr>\n",
       "    <tr>\n",
       "      <th>4</th>\n",
       "      <td>1984</td>\n",
       "      <td>MISSISSIPPI</td>\n",
       "      <td>37.684965</td>\n",
       "    </tr>\n",
       "  </tbody>\n",
       "</table>\n",
       "</div>"
      ],
      "text/plain": [
       "   year          state  y_votes_percent\n",
       "0  1984  NEW HAMPSHIRE        31.065548\n",
       "1  1984   PENNSYLVANIA        46.299269\n",
       "2  1984       MISSOURI        39.975249\n",
       "3  1984         KANSAS        32.970523\n",
       "4  1984    MISSISSIPPI        37.684965"
      ]
     },
     "execution_count": 5,
     "metadata": {},
     "output_type": "execute_result"
    }
   ],
   "source": [
    "pop_vote = pd.read_csv('datasets/1976-2020-president.csv')\n",
    "pop_vote = pop_vote[['year', 'state', 'party_simplified', 'candidatevotes', ]] # drop useless columns\n",
    "pop_vote = pop_vote.groupby(['year', 'state', 'party_simplified', ]).sum() # drop multiple candidate\n",
    "pop_vote = to_percent(pop_vote, 'candidatevotes')\n",
    "pop_vote = pop_vote.rename(columns={\"candidatevotes\": \"y_votes_percent\", })\n",
    "pop_vote.to_csv('datasets-clean/popular-vote-y.csv', index=False)\n",
    "pop_vote.head()"
   ]
  },
  {
   "cell_type": "markdown",
   "metadata": {},
   "source": [
    "#### GDP and friends"
   ]
  },
  {
   "cell_type": "markdown",
   "metadata": {},
   "source": [
    "It was necessary to generate an adjusted series of state GDP because of a change in BEA’s estimation procedure from a Standard Industrial Classification (SIC) basis to a North American Industry Classification System (NAICS) basis in 1997.\n",
    "Data prior to 1997 were adjusted to avoid any erratic shifts in GDP that year.\n",
    "While the change to NAICS basis occurred in 1997, BEA also provides estimates under a SIC basis in that year.\n",
    "Our adjustment involved calculating the 1997 ratio of NAICS-based GDP to SIC-based GDP for each state, and multiplying it by SIC-based GDP in all years prior to 1997 to obtain our adjusted series of state-level GDP."
   ]
  },
  {
   "cell_type": "code",
   "execution_count": 6,
   "metadata": {},
   "outputs": [],
   "source": [
    "gdp_nom_97 = to_splatter(pd.read_csv('datasets/gdp-nominal-63-97.csv'), 'nominal_gdp_mln')\n",
    "gdp_nom_12 = to_splatter(pd.read_csv('datasets/gdp-nominal-97-20.csv'), 'nominal_gdp_mln')\n",
    "gdp_real_97 = to_splatter(pd.read_csv('datasets/gdp-real-77-97-chain-97.csv'), 'real_gdp_mln')\n",
    "gdp_real_12 = to_splatter(pd.read_csv('datasets/gdp-real-97-20-chain-12.csv'), 'real_gdp_mln')\n",
    "gdp_nom_97 = gdp_nom_97.set_index(['year', 'state'])\n",
    "gdp_nom_12 = gdp_nom_12.set_index(['year', 'state'])\n",
    "gdp_real_97 = gdp_real_97.set_index(['year', 'state'])\n",
    "gdp_real_12 = gdp_real_12.set_index(['year', 'state'])"
   ]
  },
  {
   "cell_type": "code",
   "execution_count": 7,
   "metadata": {},
   "outputs": [],
   "source": [
    "gdp_def_97 = (gdp_nom_97['nominal_gdp_mln'] / gdp_real_97['real_gdp_mln']).to_frame('gdp_def').dropna()\n",
    "gdp_def_12 = (gdp_nom_12['nominal_gdp_mln'] / gdp_real_12['real_gdp_mln']).to_frame('gdp_def').dropna()"
   ]
  },
  {
   "cell_type": "code",
   "execution_count": 8,
   "metadata": {},
   "outputs": [],
   "source": [
    "gdp_def = []\n",
    "\n",
    "for s in states:\n",
    "    tmp = gdp_def_97.loc[(slice(None),s),:]\n",
    "    years = list({i[0] for i in tmp.index})\n",
    "    years.sort()\n",
    "    for y in years[1:]:\n",
    "        q = gdp_def_97.loc[(y,s),:]['gdp_def']/gdp_def_97.loc[(int(y)-1,s),:]['gdp_def']\n",
    "        gdp_def.append([y, s, (q - 1)*100])\n",
    "\n",
    "for s in states:\n",
    "    tmp = gdp_def_12.loc[(slice(None),s),:]\n",
    "    years = list({i[0] for i in tmp.index})\n",
    "    years.sort()\n",
    "    for y in years[1:]:\n",
    "        q = gdp_def_12.loc[(y,s),:]['gdp_def']/gdp_def_12.loc[(int(y)-1,s),:]['gdp_def']\n",
    "        gdp_def.append([y, s, (q - 1)*100])\n",
    "\n",
    "gdp_def = pd.DataFrame(data=gdp_def, columns=['year', 'state', 'gdp_def_percent_change_year_ago'])\n",
    "gdp_def.head()\n",
    "gdp_def.to_csv('datasets-clean/gdp-def-percent-change-year-ago.csv', index=False)"
   ]
  },
  {
   "cell_type": "code",
   "execution_count": 11,
   "metadata": {},
   "outputs": [],
   "source": [
    "gdp_real = []\n",
    "\n",
    "for s in states:\n",
    "    tmp = gdp_real_97.loc[(slice(None),s),:]\n",
    "    years = list({i[0] for i in tmp.index})\n",
    "    years.sort()\n",
    "    for y in years[1:]:\n",
    "        q = gdp_real_97.loc[(y,s),:]['real_gdp_mln']/gdp_real_97.loc[(int(y)-1,s),:]['real_gdp_mln']\n",
    "        gdp_real.append([y, s, (q - 1)*100])\n",
    "\n",
    "for s in states:\n",
    "    tmp = gdp_real_12.loc[(slice(None),s),:]\n",
    "    years = list({i[0] for i in tmp.index})\n",
    "    years.sort()\n",
    "    for y in years[1:]:\n",
    "        q = gdp_real_12.loc[(y,s),:]['real_gdp_mln']/gdp_real_12.loc[(int(y)-1,s),:]['real_gdp_mln']\n",
    "        gdp_real.append([y, s, (q - 1)*100])\n",
    "\n",
    "gdp_real = pd.DataFrame(data=gdp_real, columns=['year', 'state', 'gdp_real_percent_change_year_ago'])\n",
    "gdp_real.head()\n",
    "gdp_real.to_csv('datasets-clean/gdp-real-percent-change-year-ago.csv', index=False)"
   ]
  },
  {
   "cell_type": "code",
   "execution_count": null,
   "metadata": {},
   "outputs": [],
   "source": [
    "# samu\n",
    "z_samu = z_samu.apply()\n",
    "\n",
    "# papi\n",
    "z_papi = \n",
    "\n",
    "# me\n",
    "z_me = "
   ]
  },
  {
   "cell_type": "markdown",
   "metadata": {},
   "source": [
    "us stuff"
   ]
  },
  {
   "cell_type": "code",
   "execution_count": null,
   "metadata": {},
   "outputs": [],
   "source": [
    "gdp_us = pd.read_csv('datasets/gdp-nomina-47-20-chain-12.csv')\n",
    "gdp_us.DATE = gdp_us.DATE.apply(lambda x: int(str(x).split('-')[0]))\n",
    "s = gdp_us[gdp_us.DATE > 1975].GDPC1_PC1\n",
    "s.hist()"
   ]
  },
  {
   "cell_type": "code",
   "execution_count": null,
   "metadata": {},
   "outputs": [],
   "source": [
    "ecdf = ECDF(s)\n",
    "ecdf(2.8)\n",
    "\n",
    "qnt = 0.67\n",
    "std_err = np.sqrt(s.var())/2\n",
    "ecdf_inv(s, qnt), len(s)*(1-qnt), std_err"
   ]
  },
  {
   "cell_type": "markdown",
   "metadata": {},
   "source": [
    "#### house"
   ]
  },
  {
   "cell_type": "code",
   "execution_count": null,
   "metadata": {},
   "outputs": [],
   "source": [
    "house_vote = pd.read_csv('datasets/1976-2020-house-utf8.csv')\n",
    "house_vote = house_vote[['year', 'state', 'party', 'candidatevotes', ]]\n",
    "house_vote = house_vote.groupby(['year', 'state', 'party', ]).sum()\n",
    "house_vote = to_percent(house_vote, 'candidatevotes')\n",
    "house_vote['candidatevotes'] = house_vote['candidatevotes'].apply(lambda x: 1 if x < 50 else -1)\n",
    "house_vote['year'] -= 4\n",
    "house_vote = house_vote.rename(columns={'candidatevotes':'incumbent'})\n",
    "house_vote.to_csv('datasets-clean/incumbent-house-rep.csv', index=False)\n",
    "house_vote.head()"
   ]
  },
  {
   "cell_type": "code",
   "execution_count": null,
   "metadata": {},
   "outputs": [],
   "source": [
    "'''\n",
    "house_vote = pd.read_csv('datasets/1976-2020-house-utf8.csv')\n",
    "house_vote = house_vote[['year', 'state', 'party', 'candidatevotes', ]]\n",
    "house_vote = house_vote.groupby(['year', 'state', 'party', ]).sum()\n",
    "house_vote = to_percent(house_vote, 'candidatevotes')\n",
    "house_vote = house_vote.rename(columns={\"candidatevotes\": \"houserep_votes_percent\", })\n",
    "#'''"
   ]
  },
  {
   "cell_type": "markdown",
   "metadata": {},
   "source": [
    "#### incumbent"
   ]
  },
  {
   "cell_type": "code",
   "execution_count": null,
   "metadata": {},
   "outputs": [],
   "source": [
    "incumbent = pd.read_csv('datasets/incumbent-4president-76-20.csv', sep=';')\n",
    "incumbent.head()\n",
    "\n",
    "tmp = pd.DataFrame(data=[[y,s] for y in years for s in states], columns=['year', 'state'])\n",
    "incumbent = pd.merge(tmp, incumbent, how='inner', left_on='year', right_on='year')\n",
    "incumbent.head()"
   ]
  },
  {
   "cell_type": "markdown",
   "metadata": {},
   "source": [
    "#### gasoline and friends + approval"
   ]
  },
  {
   "cell_type": "code",
   "execution_count": null,
   "metadata": {},
   "outputs": [],
   "source": [
    "gas = pd.read_csv('datasets/gasoline-93-21.csv')\n",
    "gas.date = gas.date.apply(lambda x: time.mktime(datetime.datetime.strptime(x,\"%m/%d/%Y\").timetuple()))\n",
    "gas.date = gas.date.apply(lambda x: datetime.datetime.fromtimestamp(int(x)))\n",
    "gas.head()"
   ]
  },
  {
   "cell_type": "markdown",
   "metadata": {},
   "source": [
    "#### houses prices and rent + personal income"
   ]
  },
  {
   "cell_type": "code",
   "execution_count": null,
   "metadata": {},
   "outputs": [],
   "source": [
    "f = open('datasets/house-chain-00.csv', 'rt')\n",
    "lines = f.readlines()\n",
    "houses = [[i.strip() for i in l.split(sep = '$') ] for l in lines ]\n",
    "houses = pd.DataFrame(data=houses, columns=['state', 2000, 1990, 1980, 1970, 1960, 1950, 1940 ])\n",
    "houses.head()"
   ]
  },
  {
   "cell_type": "markdown",
   "metadata": {},
   "source": [
    "#### merging features"
   ]
  },
  {
   "cell_type": "code",
   "execution_count": null,
   "metadata": {},
   "outputs": [],
   "source": [
    "'''\n",
    "df = pd.merge(pop_vote, nom_gdp, how='inner', left_on=['year','state'], right_on=['year','state'])\n",
    "df = pd.merge(df, house_vote, how='inner', left_on=['year','state'], right_on=['year','state'])\n",
    "df.head()\n",
    "#'''"
   ]
  },
  {
   "cell_type": "code",
   "execution_count": null,
   "metadata": {},
   "outputs": [],
   "source": [
    "'''\n",
    "df.to_csv('datasets-clean/xxx-final-dataset.csv', index=False)\n",
    "#'''"
   ]
  }
 ],
 "metadata": {
  "interpreter": {
   "hash": "916dbcbb3f70747c44a77c7bcd40155683ae19c65e1c03b4aa3499c5328201f1"
  },
  "kernelspec": {
   "display_name": "Python 3.8.10 64-bit",
   "name": "python3"
  },
  "language_info": {
   "codemirror_mode": {
    "name": "ipython",
    "version": 3
   },
   "file_extension": ".py",
   "mimetype": "text/x-python",
   "name": "python",
   "nbconvert_exporter": "python",
   "pygments_lexer": "ipython3",
   "version": "3.8.10"
  },
  "orig_nbformat": 4
 },
 "nbformat": 4,
 "nbformat_minor": 2
}
