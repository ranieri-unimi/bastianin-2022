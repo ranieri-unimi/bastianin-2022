{
 "cells": [
  {
   "cell_type": "code",
   "execution_count": null,
   "metadata": {},
   "outputs": [],
   "source": [
    "import requests\n",
    "from bs4 import BeautifulSoup as bs\n",
    "import pickle\n",
    "import pandas as pd\n",
    "from sklearn.metrics import mean_squared_error\n",
    "import numpy as np"
   ]
  },
  {
   "cell_type": "markdown",
   "metadata": {},
   "source": [
    "## archives.gov electoral vote scraper"
   ]
  },
  {
   "cell_type": "code",
   "execution_count": null,
   "metadata": {},
   "outputs": [],
   "source": [
    "def alfa(x): return ''.join([c for c in x if c.isalpha() or c==' '])\n",
    "def wl(x):\n",
    "    f = open('latek-output.tex', 'wt')\n",
    "    f.write(x.to_latex())\n",
    "    f.close()"
   ]
  },
  {
   "cell_type": "code",
   "execution_count": null,
   "metadata": {},
   "outputs": [],
   "source": [
    "elec_vote_map = dict()\n",
    "\n",
    "if False:\n",
    "    for y in range(1976, 2021, 4):\n",
    "        uri = f'https://www.archives.gov/electoral-college/{y}'\n",
    "        r = requests.get(uri)\n",
    "        states = bs(r.text, 'html.parser').findAll('tbody')[1].findAll('tr')\n",
    "        for i in range(2,53):\n",
    "            cell_list = states[i].findAll('td')\n",
    "\n",
    "            s = alfa(cell_list[0].text).upper()\n",
    "            ev = int(cell_list[1].text)\n",
    "            elec_vote_map[(y,s)] = ev\n",
    "            pickle.dump(elec_vote_map, open('datasets/elec_vote_map.pkl', 'wb'))\n",
    "else:\n",
    "    elec_vote_map = pickle.load(open('datasets/elec_vote_map.pkl', 'rb'))"
   ]
  },
  {
   "cell_type": "code",
   "execution_count": null,
   "metadata": {},
   "outputs": [],
   "source": [
    "df = pd.read_csv('datasets-clean/xxx-fitted-values.csv')\n",
    "df = df[['year', 'state', 'y_votes_percent', 'y_hat_fr', 'y_hat_ds', ]]\n",
    "\n",
    "df['y_err_fr'] = abs(df.y_votes_percent-df.y_hat_fr)\n",
    "df['y_err_ds'] = abs(df.y_votes_percent-df.y_hat_ds)\n",
    "\n",
    "for i in df.index:\n",
    "    y = df.at[i, 'year']\n",
    "    s = df.at[i, 'state']\n",
    "\n",
    "    df.at[i, 'y_ev'] = elec_vote_map[(y,s)] if df.at[i, 'y_votes_percent'] > 50 else 0\n",
    "\n",
    "    df.at[i, 'y_fr'] = elec_vote_map[(y,s)] if df.at[i, 'y_hat_fr'] > 50 else 0\n",
    "    df.at[i, 'y_ds'] = elec_vote_map[(y,s)] if df.at[i, 'y_hat_ds'] > 50 else 0\n",
    "\n",
    "    df.at[i, 'fr_spill'] = df.at[i, 'y_fr'] != df.at[i, 'y_ev']\n",
    "    df.at[i, 'ds_spill'] = df.at[i, 'y_ds'] != df.at[i, 'y_ev']"
   ]
  },
  {
   "cell_type": "code",
   "execution_count": null,
   "metadata": {},
   "outputs": [],
   "source": [
    "sum(df.ds_spill) / (10*50)"
   ]
  },
  {
   "cell_type": "code",
   "execution_count": null,
   "metadata": {},
   "outputs": [],
   "source": [
    "wl(df[df.year == 2012][df.fr_spill][['state', 'y_votes_percent', 'y_hat_fr', ]])"
   ]
  },
  {
   "cell_type": "code",
   "execution_count": null,
   "metadata": {},
   "outputs": [],
   "source": [
    "# solo sulla percentuale, non sulla assegnazione\n",
    "np.sqrt(mean_squared_error(df.y_votes_percent, df.y_hat_fr)), np.sqrt(mean_squared_error(df.y_votes_percent, df.y_hat_ds))"
   ]
  },
  {
   "cell_type": "code",
   "execution_count": null,
   "metadata": {},
   "outputs": [],
   "source": [
    "df.to_csv('XXX-final-final-prediction-fitted-values.csv',)"
   ]
  },
  {
   "cell_type": "code",
   "execution_count": null,
   "metadata": {},
   "outputs": [],
   "source": [
    "(np.mean(df.y_err_fr) /  np.mean(df.y_err_ds) - 1)*100 , 100 - (np.mean(df.y_err_ds) / np.mean(df.y_err_fr))*100"
   ]
  },
  {
   "cell_type": "code",
   "execution_count": null,
   "metadata": {},
   "outputs": [],
   "source": [
    "tab = df.groupby('year')['y_ev', 'y_fr', 'y_ds',].sum()\n",
    "tab.y_ev += 3\n",
    "tab.y_fr += 3\n",
    "tab.y_ds += 3\n",
    "tab.y_ev = tab.y_ev.astype(int)\n",
    "tab.y_fr = tab.y_fr.astype(int)\n",
    "tab.y_ds = tab.y_ds.astype(int)\n",
    "tab"
   ]
  }
 ],
 "metadata": {
  "interpreter": {
   "hash": "31f2aee4e71d21fbe5cf8b01ff0e069b9275f58929596ceb00d14d90e3e16cd6"
  },
  "kernelspec": {
   "display_name": "Python 3.8.10 64-bit",
   "language": "python",
   "name": "python3"
  },
  "language_info": {
   "codemirror_mode": {
    "name": "ipython",
    "version": 3
   },
   "file_extension": ".py",
   "mimetype": "text/x-python",
   "name": "python",
   "nbconvert_exporter": "python",
   "pygments_lexer": "ipython3",
   "version": "3.8.10"
  },
  "orig_nbformat": 4
 },
 "nbformat": 4,
 "nbformat_minor": 2
}
