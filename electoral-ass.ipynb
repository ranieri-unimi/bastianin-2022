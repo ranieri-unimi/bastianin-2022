{
 "cells": [
  {
   "cell_type": "code",
   "execution_count": null,
   "metadata": {},
   "outputs": [],
   "source": [
    "import requests\n",
    "from bs4 import BeautifulSoup as bs\n",
    "import pickle"
   ]
  },
  {
   "cell_type": "markdown",
   "metadata": {},
   "source": [
    "## archives.gov electoral vote scraper"
   ]
  },
  {
   "cell_type": "code",
   "execution_count": null,
   "metadata": {},
   "outputs": [],
   "source": [
    "elec_vote_map = dict()\n",
    "\n",
    "for y in range(1976, 2021, 4):\n",
    "    print(y)\n",
    "    uri = f'https://www.archives.gov/electoral-college/{y}'\n",
    "    r = requests.get(uri)\n",
    "    states = bs(r.text, 'html.parser').findAll('tbody')[1].findAll('tr')\n",
    "    for i in range(2,53):\n",
    "        cell_list = states[i].findAll('td')\n",
    "        s, ev = cell_list[0].text.upper(), int(cell_list[1].text)\n",
    "        elec_vote_map[(y,s)] = ev\n",
    "\n",
    "pickle.dump(elec_vote_map, open('datasets/elec_vote_map.pkl', 'wb'))"
   ]
  },
  {
   "cell_type": "code",
   "execution_count": null,
   "metadata": {},
   "outputs": [],
   "source": [
    "## TODO\n",
    "# TROVARE RISULTATI REALI\n",
    "# IMPORTARE FITTED VALUES\n",
    "# MSE FITTED REAL"
   ]
  }
 ],
 "metadata": {
  "language_info": {
   "name": "python"
  },
  "orig_nbformat": 4
 },
 "nbformat": 4,
 "nbformat_minor": 2
}
