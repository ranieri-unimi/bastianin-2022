{
 "cells": [
  {
   "cell_type": "code",
   "execution_count": 26,
   "metadata": {},
   "outputs": [],
   "source": [
    "import requests\n",
    "from bs4 import BeautifulSoup as bs\n",
    "import pickle\n",
    "import pandas as pd\n",
    "from sklearn.metrics import mean_squared_error\n",
    "import numpy as np"
   ]
  },
  {
   "cell_type": "markdown",
   "metadata": {},
   "source": [
    "## archives.gov electoral vote scraper"
   ]
  },
  {
   "cell_type": "code",
   "execution_count": null,
   "metadata": {},
   "outputs": [],
   "source": [
    "def alfa(x): return ''.join([c for c in x if c.isalpha() or c==' '])"
   ]
  },
  {
   "cell_type": "code",
   "execution_count": null,
   "metadata": {},
   "outputs": [],
   "source": [
    "elec_vote_map = dict()\n",
    "\n",
    "for y in range(1976, 2021, 4):\n",
    "    uri = f'https://www.archives.gov/electoral-college/{y}'\n",
    "    r = requests.get(uri)\n",
    "    states = bs(r.text, 'html.parser').findAll('tbody')[1].findAll('tr')\n",
    "    for i in range(2,53):\n",
    "        cell_list = states[i].findAll('td')\n",
    "\n",
    "        s = alfa(cell_list[0].text).upper()\n",
    "        ev = int(cell_list[1].text)\n",
    "        elec_vote_map[(y,s)] = ev\n",
    "\n",
    "pickle.dump(elec_vote_map, open('datasets/elec_vote_map.pkl', 'wb'))"
   ]
  },
  {
   "cell_type": "code",
   "execution_count": 27,
   "metadata": {},
   "outputs": [],
   "source": [
    "# solo sulla percentuale, non sulla assegnazione\n",
    "df = pd.read_csv('datasets/fair-fitted-values.csv')\n",
    "rms = np.sqrt(mean_squared_error(df.y_votes_percent, df.y_hat_vote))"
   ]
  },
  {
   "cell_type": "code",
   "execution_count": null,
   "metadata": {},
   "outputs": [],
   "source": [
    "df = pd.read_csv('datasets/fair-fitted-values.csv')\n",
    "df = df[['year', 'state', 'y_votes_percent', 'y_hat_vote', ]]\n",
    "for i in df.index:\n",
    "    q = df.at[i, 'y_votes_percent']\n",
    "    p = df.at[i, 'y_hat_vote']\n",
    "    y = df.at[i, 'year']\n",
    "    s = df.at[i, 'state']\n",
    "\n",
    "    df.at[i, 'y_votes_percent'] = elec_vote_map[(y,s)] if q > 50 else 0\n",
    "    df.at[i, 'y_hat_vote'] = elec_vote_map[(y,s)] if p > 50 else 0\n"
   ]
  },
  {
   "cell_type": "code",
   "execution_count": null,
   "metadata": {},
   "outputs": [],
   "source": [
    "# DEM EL VOTE\n",
    "df.groupby('year')['y_votes_percent', 'y_hat_vote',].sum()"
   ]
  }
 ],
 "metadata": {
  "interpreter": {
   "hash": "31f2aee4e71d21fbe5cf8b01ff0e069b9275f58929596ceb00d14d90e3e16cd6"
  },
  "kernelspec": {
   "display_name": "Python 3.8.10 64-bit",
   "language": "python",
   "name": "python3"
  },
  "language_info": {
   "codemirror_mode": {
    "name": "ipython",
    "version": 3
   },
   "file_extension": ".py",
   "mimetype": "text/x-python",
   "name": "python",
   "nbconvert_exporter": "python",
   "pygments_lexer": "ipython3",
   "version": "3.8.10"
  },
  "orig_nbformat": 4
 },
 "nbformat": 4,
 "nbformat_minor": 2
}
